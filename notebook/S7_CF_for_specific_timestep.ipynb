{
 "cells": [
  {
   "cell_type": "code",
   "execution_count": null,
   "metadata": {},
   "outputs": [],
   "source": [
    "import pandas as pd\n",
    "import numpy as np\n",
    "import xarray as xr\n",
    "import datetime as dt\n",
    "from datetime import datetime\n",
    "from pandas import to_datetime as to_datetime\n",
    "import os\n",
    "import re"
   ]
  },
  {
   "attachments": {},
   "cell_type": "markdown",
   "metadata": {},
   "source": [
    "#notebook to calculate CF for all the stations based on a specific timestep\n",
    "\n",
    "~ suppose we are going to get CF based on 2020/08/01 14:00 \n",
    "~ the input file for nwp should be the most recent run time so in this case 202008010000_nwp_t2.csv\n",
    "~ we must also account for not taking any values in the first six hours after the runtime in any calculation this is why we cant chose to open 202008011200_nwp_t2.csv even though its the most recent run.\n",
    "~ the input file would always be obs_t2.csv (refer to readme.md)\n"
   ]
  },
  {
   "cell_type": "code",
   "execution_count": null,
   "metadata": {},
   "outputs": [],
   "source": [
    "#open obs csv and set a datetime index (UTC)\n",
    "obs_input = pd.read_csv('path to csv')\n",
    "start_date = pd.to_datetime('2020-07-28 16:00') #convert 2020/07/30 00:00 to UTC = 2020/07/28 16:00\n",
    "end_date = start_date + pd.DateOffset(hours=767)\n",
    "date_index = pd.date_range(start=start_date, end=end_date, freq='H')\n",
    "\n",
    "#open nwp csv\n",
    "nwp_input = pd.read_csv('path to csv')\n",
    "\n",
    "#open staioon_dictionary\n",
    "station_dictionary = pd.read_csv('./input/latlonstation.csv')"
   ]
  },
  {
   "cell_type": "code",
   "execution_count": null,
   "metadata": {},
   "outputs": [],
   "source": [
    "#DEFINE THE TIME TO GET CF FOR\n",
    "CF_spec_time = '2020-08-01 14:00'\n",
    "CF_spec_time = datetime.strptime(CF_spec_time, '%Y-%m-%d %H:%M')\n",
    "CF_spec_time\n"
   ]
  },
  {
   "cell_type": "code",
   "execution_count": null,
   "metadata": {},
   "outputs": [],
   "source": [
    "\n",
    "#define time for obs\n",
    "start_obs_time = CF_spec_time - pd.DateOffset(hours = 6) #to get mean of the previous six hours\n",
    "end_obs_time = CF_spec_time\n",
    "#define times for nwp #no need to get mean of 6 hours for nwp\n",
    "nwp_time =  CF_spec_time\n"
   ]
  },
  {
   "cell_type": "code",
   "execution_count": null,
   "metadata": {},
   "outputs": [],
   "source": [
    "#assign empty arrays to fill in for calcualuted CF for each station\n",
    "CF_array = np.array([])"
   ]
  },
  {
   "attachments": {},
   "cell_type": "markdown",
   "metadata": {},
   "source": [
    "now we start the loop for calcualting CF"
   ]
  },
  {
   "cell_type": "code",
   "execution_count": null,
   "metadata": {},
   "outputs": [],
   "source": [
    "station_id = station_dictionary['station_id']\n",
    "for x, id in enumerate(station_id):\n",
    "        # extract temperatures from each station ID for OBS\n",
    "        y = obs_input['%s' % id]\n",
    "        # print(y)\n",
    "        obs = y[start_obs_time:end_obs_time]\n",
    "        obs_original = obs.iloc[13]\n",
    "        obs = obs.iloc[6:11].values  # T2 of (31/0200:31/0700 BJT) of OBS\n",
    "        obs = obs.mean()\n",
    "        # extract temperatures from each station ID for NWP\n",
    "        z = nwp_input['%s' % id]\n",
    "        # print(z)\n",
    "        nwp = z[nwp_time]\n",
    "        #compute CF and fill empty array \n",
    "        CF = obs-nwp\n",
    "        CF_array = np.append(CF_array, CF)\n",
    "\n",
    "#create a dataframw with only station_id, lat and lon\n",
    "CF_df = station_dictionary.drop(station_dictionary.loc[:, 'x':'y':'alt'].columns,axis = 1)\n",
    "CF_df.insert(4, \"CF\", CF_array)\n",
    "print(CF_df)"
   ]
  }
 ],
 "metadata": {
  "kernelspec": {
   "display_name": "Python 3",
   "language": "python",
   "name": "python3"
  },
  "language_info": {
   "codemirror_mode": {
    "name": "ipython",
    "version": 3
   },
   "file_extension": ".py",
   "mimetype": "text/x-python",
   "name": "python",
   "nbconvert_exporter": "python",
   "pygments_lexer": "ipython3",
   "version": "3.11.3"
  },
  "orig_nbformat": 4,
  "vscode": {
   "interpreter": {
    "hash": "b0fa6594d8f4cbf19f97940f81e996739fb7646882a419484c72d19e05852a7e"
   }
  }
 },
 "nbformat": 4,
 "nbformat_minor": 2
}
