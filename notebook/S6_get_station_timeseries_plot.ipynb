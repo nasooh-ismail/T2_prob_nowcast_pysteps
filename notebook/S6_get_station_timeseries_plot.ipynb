{
 "cells": [
  {
   "cell_type": "code",
   "execution_count": null,
   "metadata": {},
   "outputs": [],
   "source": [
    "import pandas as pd\n",
    "import matplotlib.pyplot as plt"
   ]
  },
  {
   "attachments": {},
   "cell_type": "markdown",
   "metadata": {},
   "source": [
    "This notebook pulls data from the nwp csv files (one file per each run with 48 timesteps) and the t2_obs.csv (one file with 786 timesteps) \n",
    "\n",
    "please change the filename,station_id, start_time, end_time, data, accordingly"
   ]
  },
  {
   "cell_type": "markdown",
   "metadata": {},
   "source": []
  },
  {
   "cell_type": "code",
   "execution_count": null,
   "metadata": {},
   "outputs": [],
   "source": [
    "#open obs_t2.csv and set the dateindex starting with 28/07 1600 (UTC)\n",
    "filename = \"./output/obs_t2.csv\"\n",
    "df = pd.read_csv(filename)\n",
    "start_datetime = pd.to_datetime('2020-07-28 16:00') #convert 2020/07/30 00:00 to UTC = 2020/07/28 16:00\n",
    "end_datetime = start_datetime + pd.DateOffset(hours=767)\n",
    "datetime_index = pd.date_range(start=start_datetime, end=end_datetime, freq='H')\n",
    "df.set_index(datetime_index, inplace=True)"
   ]
  },
  {
   "cell_type": "code",
   "execution_count": null,
   "metadata": {},
   "outputs": [],
   "source": [
    "# Get the column names (station IDs) and Choose a specific station and duration\n",
    "station_ids = df.columns[1:]\n",
    "station_id = \"54638\"\n",
    "start_time = pd.to_datetime(\"2020-08-03 00:00\")\n",
    "end_time = pd.to_datetime(\"2020-08-05 00:00\")\n",
    "\n",
    "# Get the temperature data for the chosen station\n",
    "temperatures = df[station_id].loc[start_time:end_time]"
   ]
  },
  {
   "cell_type": "code",
   "execution_count": null,
   "metadata": {},
   "outputs": [],
   "source": [
    "#open nwp csv data file from folder, and get the date index in the csv file\n",
    "data = pd.read_csv('./output/nwp_csv_new/202008030000_t2_nwp.csv')\n",
    "\n",
    "# Extract the datetime column and the desired station's temperature column\n",
    "datetime_column = pd.to_datetime(data['valid_time'])\n",
    "\n",
    "# Extract the temperature column for the desired station\n",
    "temperature_column = data[station_id]"
   ]
  },
  {
   "cell_type": "code",
   "execution_count": null,
   "metadata": {},
   "outputs": [],
   "source": [
    "# Create the plot for the spefic station / duration\n",
    "\n",
    "plt.plot(datetime_column, temperature_column, label='nwp')\n",
    "plt.title(f'Nwp Plot for Station {station_id}')\n",
    "plt.plot(temperatures.index, temperatures.values, label='obs', marker = 'o')\n",
    "plt.title(f'obs Plot for Station {station_id}')\n",
    "plt.xlabel('Time')\n",
    "plt.ylabel('Temperature')\n",
    "plt.xticks(rotation=45)\n",
    "plt.show()"
   ]
  }
 ],
 "metadata": {
  "kernelspec": {
   "display_name": "Python 3",
   "language": "python",
   "name": "python3"
  },
  "language_info": {
   "name": "python",
   "version": "3.11.3 (main, Apr  7 2023, 20:13:31) [Clang 14.0.0 (clang-1400.0.29.202)]"
  },
  "orig_nbformat": 4,
  "vscode": {
   "interpreter": {
    "hash": "b0fa6594d8f4cbf19f97940f81e996739fb7646882a419484c72d19e05852a7e"
   }
  }
 },
 "nbformat": 4,
 "nbformat_minor": 2
}
